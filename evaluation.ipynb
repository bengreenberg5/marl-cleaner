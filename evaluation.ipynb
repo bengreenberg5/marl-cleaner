{
 "cells": [
  {
   "cell_type": "code",
   "execution_count": null,
   "id": "8aefd3a9",
   "metadata": {},
   "outputs": [],
   "source": [
    "from matplotlib import animation\n",
    "import ray\n",
    "\n",
    "from cleaner.cleaner_env import *"
   ]
  },
  {
   "cell_type": "code",
   "execution_count": null,
   "id": "4bd12ae3",
   "metadata": {
    "scrolled": true
   },
   "outputs": [],
   "source": [
    "config_name = \"simple_3x3\"\n",
    "run_name = \"second_run\"\n",
    "checkpoint_num = 1001\n",
    "\n",
    "ray.shutdown()\n",
    "ray.init()\n",
    "config = load_config(config_name)\n",
    "# evaluate(config, run_name, checkpoint_num, record=True)"
   ]
  },
  {
   "cell_type": "code",
   "execution_count": null,
   "id": "2adba457",
   "metadata": {},
   "outputs": [],
   "source": []
  }
 ],
 "metadata": {
  "kernelspec": {
   "display_name": "Python 3 (ipykernel)",
   "language": "python",
   "name": "python3"
  },
  "language_info": {
   "codemirror_mode": {
    "name": "ipython",
    "version": 3
   },
   "file_extension": ".py",
   "mimetype": "text/x-python",
   "name": "python",
   "nbconvert_exporter": "python",
   "pygments_lexer": "ipython3",
   "version": "3.8.10"
  }
 },
 "nbformat": 4,
 "nbformat_minor": 5
}
