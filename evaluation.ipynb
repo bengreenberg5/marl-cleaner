{
 "cells": [
  {
   "cell_type": "code",
   "execution_count": null,
   "id": "8aefd3a9",
   "metadata": {},
   "outputs": [],
   "source": [
    "from matplotlib import animation\n",
    "from pprint import pprint\n",
    "import ray\n",
    "%matplotlib notebook\n",
    "\n",
    "from run import *"
   ]
  },
  {
   "cell_type": "code",
   "execution_count": null,
   "id": "da1d1e36",
   "metadata": {},
   "outputs": [],
   "source": [
    "def run_evaluation(\n",
    "    agent_run_names, \n",
    "    agent_checkpoints, \n",
    "    config_name, \n",
    "    policy_name=\"ppo\", \n",
    "    seed=1,\n",
    "    heterogeneous=True,\n",
    "):\n",
    "    ray.shutdown()\n",
    "    ray.init()\n",
    "    config = load_config(config_name)\n",
    "    eval_run_name = \"\"\n",
    "    for i in range(len(agent_run_names)):\n",
    "        eval_run_name += f\"{agent_run_names[i]}_{agent_checkpoints[i]}_\"\n",
    "    eval_run_name = eval_run_name[:-1]\n",
    "    ray_dir = f\"{os.path.expanduser('~')}/ray_results\"\n",
    "    eval_results_dir = f\"{ray_dir}/{eval_run_name}\"\n",
    "    register_env(\"ZSC-Cleaner\", lambda _: CleanerEnv(config[\"env_config\"], run_name=eval_run_name))\n",
    "\n",
    "    agents = {}\n",
    "    for i in range(config[\"env_config\"][\"num_agents\"]):\n",
    "        agent = Agent(\n",
    "            policy_name=policy_name,\n",
    "            run_name=agent_run_names[i],\n",
    "            agent_num=i,\n",
    "            config=config,\n",
    "            seed=seed,\n",
    "            heterogeneous=heterogeneous,\n",
    "        )\n",
    "        agents[agent.name] = agent\n",
    "        trainer_agents = {}\n",
    "        if agent.heterogeneous:\n",
    "            for other_agent_num in range(agent.config[\"env_config\"][\"num_agents\"]):\n",
    "                other_agent = deepcopy(agent)\n",
    "                other_agent.agent_num = other_agent_num\n",
    "                other_agent.name = f\"{agent.run_name}:{other_agent_num}\"\n",
    "                trainer_agents[other_agent.name] = other_agent\n",
    "            else:\n",
    "                agent.name = \n",
    "        agent.trainer = create_trainer(\n",
    "            agent.policy_name,\n",
    "            trainer_agents, \n",
    "            agent.config, \n",
    "            agent.results_dir, \n",
    "            seed=agent.seed, \n",
    "            heterogeneous=agent.heterogeneous, \n",
    "            num_workers=1\n",
    "        )\n",
    "        checkpoint_num = agent_checkpoints[i]\n",
    "        checkpoint_path = f\"{ray_dir}/{agent.run_name}/checkpoint_\" \\\n",
    "                          f\"{str(checkpoint_num).zfill(6)}/checkpoint-{checkpoint_num}\"\n",
    "        agent.trainer.load_checkpoint(checkpoint_path)\n",
    "    \n",
    "    ani = evaluate(\n",
    "        agents,\n",
    "        config,\n",
    "        eval_run_name,\n",
    "        num_episodes=1,\n",
    "        record=True,\n",
    "    )\n",
    "    return ani"
   ]
  },
  {
   "cell_type": "code",
   "execution_count": null,
   "id": "4bd12ae3",
   "metadata": {
    "scrolled": true
   },
   "outputs": [],
   "source": [
    "agent_run_names = [\"hom123\", \"hom456\"]\n",
    "agent_checkpoints = [1001, 1001]\n",
    "config_name = \"simple_11x11\"\n",
    "heterogeneous = False\n",
    "\n",
    "run_evaluation(\n",
    "    agent_run_names, \n",
    "    agent_checkpoints, \n",
    "    config_name, \n",
    "    policy_name=\"ppo\", \n",
    "    seed=1,\n",
    "    heterogeneous=heterogeneous\n",
    ")"
   ]
  },
  {
   "cell_type": "code",
   "execution_count": 9,
   "id": "c7f06fb4",
   "metadata": {},
   "outputs": [
    {
     "data": {
      "text/plain": [
       "[Position(i=1, j=1), Position(i=1, j=11)]"
      ]
     },
     "execution_count": 9,
     "metadata": {},
     "output_type": "execute_result"
    }
   ],
   "source": [
    "grid = grid_from_config(load_config(\"ring_11x11\"))\n",
    "agent_pos_from_grid(grid)"
   ]
  },
  {
   "cell_type": "code",
   "execution_count": 15,
   "id": "a593cf9e",
   "metadata": {},
   "outputs": [
    {
     "data": {
      "text/plain": [
       "[Position(i=1, j=1),\n",
       " Position(i=1, j=11),\n",
       " Position(i=11, j=1),\n",
       " Position(i=11, j=11)]"
      ]
     },
     "execution_count": 15,
     "metadata": {},
     "output_type": "execute_result"
    }
   ],
   "source": [
    "agent_pos = np.where(grid[\"agent\"])\n",
    "[Position(agent_pos[0][num], agent_pos[1][num]) for num in range(len(agent_pos[0]))]"
   ]
  },
  {
   "cell_type": "code",
   "execution_count": null,
   "id": "8b37cb32",
   "metadata": {},
   "outputs": [],
   "source": []
  }
 ],
 "metadata": {
  "kernelspec": {
   "display_name": "Python 3 (ipykernel)",
   "language": "python",
   "name": "python3"
  },
  "language_info": {
   "codemirror_mode": {
    "name": "ipython",
    "version": 3
   },
   "file_extension": ".py",
   "mimetype": "text/x-python",
   "name": "python",
   "nbconvert_exporter": "python",
   "pygments_lexer": "ipython3",
   "version": "3.8.10"
  }
 },
 "nbformat": 4,
 "nbformat_minor": 5
}
